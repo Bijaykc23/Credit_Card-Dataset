{
 "cells": [
  {
   "cell_type": "markdown",
   "id": "49cd35a0",
   "metadata": {},
   "source": [
    "### Data file: credit_cards.csv"
   ]
  },
  {
   "cell_type": "markdown",
   "id": "8992b6a9",
   "metadata": {},
   "source": [
    "### Step 1: Import libraries and dataset"
   ]
  },
  {
   "cell_type": "code",
   "execution_count": 1,
   "id": "b5727b87",
   "metadata": {},
   "outputs": [],
   "source": [
    "#import libraries\n",
    "from pyspark.sql import SparkSession\n",
    "spark = SparkSession.builder.appName('projectcluster').getOrCreate()"
   ]
  },
  {
   "cell_type": "code",
   "execution_count": 2,
   "id": "fbf77152",
   "metadata": {},
   "outputs": [],
   "source": [
    "#import the dataset\n",
    "credit_card = spark.read.csv('credit_cards.csv',header=True,inferSchema=True)"
   ]
  },
  {
   "cell_type": "markdown",
   "id": "bdb47f38",
   "metadata": {},
   "source": [
    "### Step 2: Explore the dataset"
   ]
  },
  {
   "cell_type": "code",
   "execution_count": 3,
   "id": "ff20f957",
   "metadata": {},
   "outputs": [
    {
     "name": "stdout",
     "output_type": "stream",
     "text": [
      "root\n",
      " |-- CUST_ID: string (nullable = true)\n",
      " |-- BALANCE: double (nullable = true)\n",
      " |-- BALANCE_FREQUENCY: double (nullable = true)\n",
      " |-- PURCHASES: double (nullable = true)\n",
      " |-- ONEOFF_PURCHASES: double (nullable = true)\n",
      " |-- INSTALLMENTS_PURCHASES: double (nullable = true)\n",
      " |-- CASH_ADVANCE: double (nullable = true)\n",
      " |-- PURCHASES_FREQUENCY: double (nullable = true)\n",
      " |-- ONEOFF_PURCHASES_FREQUENCY: double (nullable = true)\n",
      " |-- PURCHASES_INSTALLMENTS_FREQUENCY: double (nullable = true)\n",
      " |-- CASH_ADVANCE_FREQUENCY: double (nullable = true)\n",
      " |-- CASH_ADVANCE_TRX: integer (nullable = true)\n",
      " |-- PURCHASES_TRX: integer (nullable = true)\n",
      " |-- CREDIT_LIMIT: double (nullable = true)\n",
      " |-- PAYMENTS: double (nullable = true)\n",
      " |-- MINIMUM_PAYMENTS: double (nullable = true)\n",
      " |-- PRC_FULL_PAYMENT: double (nullable = true)\n",
      " |-- TENURE: integer (nullable = true)\n",
      "\n"
     ]
    }
   ],
   "source": [
    "#print schema\n",
    "credit_card.printSchema()"
   ]
  },
  {
   "cell_type": "code",
   "execution_count": 4,
   "id": "e57bbb66",
   "metadata": {},
   "outputs": [
    {
     "data": {
      "text/plain": [
       "['CUST_ID',\n",
       " 'BALANCE',\n",
       " 'BALANCE_FREQUENCY',\n",
       " 'PURCHASES',\n",
       " 'ONEOFF_PURCHASES',\n",
       " 'INSTALLMENTS_PURCHASES',\n",
       " 'CASH_ADVANCE',\n",
       " 'PURCHASES_FREQUENCY',\n",
       " 'ONEOFF_PURCHASES_FREQUENCY',\n",
       " 'PURCHASES_INSTALLMENTS_FREQUENCY',\n",
       " 'CASH_ADVANCE_FREQUENCY',\n",
       " 'CASH_ADVANCE_TRX',\n",
       " 'PURCHASES_TRX',\n",
       " 'CREDIT_LIMIT',\n",
       " 'PAYMENTS',\n",
       " 'MINIMUM_PAYMENTS',\n",
       " 'PRC_FULL_PAYMENT',\n",
       " 'TENURE']"
      ]
     },
     "execution_count": 4,
     "metadata": {},
     "output_type": "execute_result"
    }
   ],
   "source": [
    "#print column name\n",
    "credit_card.columns"
   ]
  },
  {
   "cell_type": "code",
   "execution_count": 5,
   "id": "00670c9a",
   "metadata": {},
   "outputs": [
    {
     "name": "stdout",
     "output_type": "stream",
     "text": [
      "+-------+-------+------------------+-------------------+------------------+------------------+----------------------+------------------+-------------------+--------------------------+--------------------------------+----------------------+------------------+------------------+-----------------+------------------+-----------------+------------------+-----------------+\n",
      "|summary|CUST_ID|           BALANCE|  BALANCE_FREQUENCY|         PURCHASES|  ONEOFF_PURCHASES|INSTALLMENTS_PURCHASES|      CASH_ADVANCE|PURCHASES_FREQUENCY|ONEOFF_PURCHASES_FREQUENCY|PURCHASES_INSTALLMENTS_FREQUENCY|CASH_ADVANCE_FREQUENCY|  CASH_ADVANCE_TRX|     PURCHASES_TRX|     CREDIT_LIMIT|          PAYMENTS| MINIMUM_PAYMENTS|  PRC_FULL_PAYMENT|           TENURE|\n",
      "+-------+-------+------------------+-------------------+------------------+------------------+----------------------+------------------+-------------------+--------------------------+--------------------------------+----------------------+------------------+------------------+-----------------+------------------+-----------------+------------------+-----------------+\n",
      "|  count|   8950|              8950|               8950|              8950|              8950|                  8950|              8950|               8950|                      8950|                            8950|                  8950|              8950|              8950|             8949|              8950|             8637|              8950|             8950|\n",
      "|   mean|   null|1564.4748276781038| 0.8772707255865991|1003.2048335195564|  592.437370949722|    411.06764469273713| 978.8711124654749| 0.4903505483798885|       0.20245768357542138|              0.3644373415642452|    0.1351442003351972|3.2488268156424582|14.709832402234637|4494.449450364621|1733.1438520248041|864.2065423050816|0.1537146484916212|11.51731843575419|\n",
      "| stddev|   null| 2081.531879456551|0.23690400268476833|2136.6347818728905|1659.8879174378076|     904.3381151753807|2097.1638766432347| 0.4013707473690413|        0.2983360651847189|             0.39744777974541334|    0.2001213881474972| 6.824646744165829|24.857649109884754|3638.815725498506| 2895.063756904571|2372.446606583978|0.2924991962338786|1.338330769367331|\n",
      "|    min| C10001|               0.0|                0.0|               0.0|               0.0|                   0.0|               0.0|                0.0|                       0.0|                             0.0|                   0.0|                 0|                 0|             50.0|               0.0|         0.019163|               0.0|                6|\n",
      "|    max| C19190|       19043.13856|                1.0|          49039.57|          40761.25|               22500.0|       47137.21176|                1.0|                       1.0|                             1.0|                   1.5|               123|               358|          30000.0|       50721.48336|      76406.20752|               1.0|               12|\n",
      "+-------+-------+------------------+-------------------+------------------+------------------+----------------------+------------------+-------------------+--------------------------+--------------------------------+----------------------+------------------+------------------+-----------------+------------------+-----------------+------------------+-----------------+\n",
      "\n"
     ]
    }
   ],
   "source": [
    "#descriptive statistics\n",
    "credit_card.describe().show()"
   ]
  },
  {
   "cell_type": "code",
   "execution_count": 6,
   "id": "e5b9cc6b",
   "metadata": {},
   "outputs": [
    {
     "name": "stdout",
     "output_type": "stream",
     "text": [
      "Total Rows:  8950\n"
     ]
    }
   ],
   "source": [
    "#count and print total rows\n",
    "total_rows = credit_card.count()\n",
    "print(\"Total Rows: \", total_rows)"
   ]
  },
  {
   "cell_type": "code",
   "execution_count": 7,
   "id": "7ad46e02",
   "metadata": {},
   "outputs": [
    {
     "name": "stdout",
     "output_type": "stream",
     "text": [
      "Total Columns:  18\n"
     ]
    }
   ],
   "source": [
    "#count and print total columns\n",
    "total_columns= len(credit_card.columns)\n",
    "print(\"Total Columns: \", total_columns)"
   ]
  },
  {
   "cell_type": "code",
   "execution_count": 8,
   "id": "649d9665",
   "metadata": {},
   "outputs": [
    {
     "name": "stdout",
     "output_type": "stream",
     "text": [
      "   CUST_ID  BALANCE  BALANCE_FREQUENCY  PURCHASES  ONEOFF_PURCHASES  \\\n",
      "0        0        0                  0          0                 0   \n",
      "\n",
      "   INSTALLMENTS_PURCHASES  CASH_ADVANCE  PURCHASES_FREQUENCY  \\\n",
      "0                       0             0                    0   \n",
      "\n",
      "   ONEOFF_PURCHASES_FREQUENCY  PURCHASES_INSTALLMENTS_FREQUENCY  \\\n",
      "0                           0                                 0   \n",
      "\n",
      "   CASH_ADVANCE_FREQUENCY  CASH_ADVANCE_TRX  PURCHASES_TRX  CREDIT_LIMIT  \\\n",
      "0                       0                 0              0             1   \n",
      "\n",
      "   PAYMENTS  MINIMUM_PAYMENTS  PRC_FULL_PAYMENT  TENURE  \n",
      "0         0               313                 0       0  \n"
     ]
    }
   ],
   "source": [
    "#find the missing values\n",
    "from pyspark.sql.functions import isnan, when, count, col\n",
    "\n",
    "missing_values = credit_card.select([count(when(isnan(c) | col(c).isNull(), c)).alias(c) for c in credit_card.columns]).toPandas()\n",
    "print(missing_values)"
   ]
  },
  {
   "cell_type": "code",
   "execution_count": 9,
   "id": "be2e6167",
   "metadata": {},
   "outputs": [],
   "source": [
    "#drop missing data\n",
    "new_ccdata = credit_card.na.drop()"
   ]
  },
  {
   "cell_type": "code",
   "execution_count": 10,
   "id": "204ad925",
   "metadata": {},
   "outputs": [
    {
     "name": "stdout",
     "output_type": "stream",
     "text": [
      "Total Rows:  8636\n"
     ]
    }
   ],
   "source": [
    "#count total rows for new data\n",
    "total_rows = new_ccdata.count()\n",
    "print(\"Total Rows: \", total_rows)"
   ]
  },
  {
   "cell_type": "markdown",
   "id": "a0025391",
   "metadata": {},
   "source": [
    "### Step 3: Find which feature is most significant using either Decision tree or Random Forest"
   ]
  },
  {
   "cell_type": "markdown",
   "id": "453e1dec",
   "metadata": {},
   "source": [
    "#### Step 3.1 : Transform and standarized the columns"
   ]
  },
  {
   "cell_type": "code",
   "execution_count": 11,
   "id": "6a371047",
   "metadata": {},
   "outputs": [],
   "source": [
    "from pyspark.ml.feature import VectorAssembler, StandardScaler\n",
    "from pyspark.ml import Pipeline\n",
    "\n",
    "#all columns used to find the significant columns \n",
    "col= ['BALANCE', 'BALANCE_FREQUENCY', 'PURCHASES', 'ONEOFF_PURCHASES', 'INSTALLMENTS_PURCHASES', 'CASH_ADVANCE',\n",
    " 'PURCHASES_FREQUENCY', 'ONEOFF_PURCHASES_FREQUENCY', 'PURCHASES_INSTALLMENTS_FREQUENCY', 'CASH_ADVANCE_FREQUENCY',\n",
    " 'CASH_ADVANCE_TRX', 'PURCHASES_TRX', 'CREDIT_LIMIT', 'PAYMENTS', 'MINIMUM_PAYMENTS', 'PRC_FULL_PAYMENT', 'TENURE']\n",
    "\n",
    "#create features column\n",
    "assembler = VectorAssembler(inputCols=col, outputCol='features')\n",
    "\n",
    "# Define the StandardScaler transformer\n",
    "scaler = StandardScaler(inputCol='features', outputCol='scaled_features',\n",
    "                        withMean=True, withStd=True)"
   ]
  },
  {
   "cell_type": "code",
   "execution_count": 12,
   "id": "109d2354",
   "metadata": {},
   "outputs": [
    {
     "name": "stderr",
     "output_type": "stream",
     "text": [
      "23/05/05 22:33:10 WARN package: Truncated the string representation of a plan since it was too large. This behavior can be adjusted by setting 'spark.sql.debug.maxToStringFields'.\n"
     ]
    }
   ],
   "source": [
    "#use pipeline to process data\n",
    "pipeline = Pipeline(stages=[assembler, scaler])\n",
    "output = pipeline.fit(new_ccdata).transform(new_ccdata)"
   ]
  },
  {
   "cell_type": "code",
   "execution_count": 13,
   "id": "e7e419ad",
   "metadata": {},
   "outputs": [
    {
     "data": {
      "text/plain": [
       "Row(CUST_ID='C10001', BALANCE=40.900749, BALANCE_FREQUENCY=0.818182, PURCHASES=95.4, ONEOFF_PURCHASES=0.0, INSTALLMENTS_PURCHASES=95.4, CASH_ADVANCE=0.0, PURCHASES_FREQUENCY=0.166667, ONEOFF_PURCHASES_FREQUENCY=0.0, PURCHASES_INSTALLMENTS_FREQUENCY=0.083333, CASH_ADVANCE_FREQUENCY=0.0, CASH_ADVANCE_TRX=0, PURCHASES_TRX=2, CREDIT_LIMIT=1000.0, PAYMENTS=201.802084, MINIMUM_PAYMENTS=139.509787, PRC_FULL_PAYMENT=0.0, TENURE=12, features=DenseVector([40.9007, 0.8182, 95.4, 0.0, 95.4, 0.0, 0.1667, 0.0, 0.0833, 0.0, 0.0, 2.0, 1000.0, 201.8021, 139.5098, 0.0, 12.0]), scaled_features=DenseVector([-0.7446, -0.37, -0.4292, -0.3591, -0.3548, -0.4686, -0.8207, -0.6862, -0.7171, -0.6819, -0.4794, -0.5176, -0.9625, -0.5439, -0.3055, -0.5377, 0.3552]))"
      ]
     },
     "execution_count": 13,
     "metadata": {},
     "output_type": "execute_result"
    }
   ],
   "source": [
    "# Show the first  rows of the transformed data\n",
    "output.head()"
   ]
  },
  {
   "cell_type": "code",
   "execution_count": 14,
   "id": "9e0703ab",
   "metadata": {},
   "outputs": [],
   "source": [
    "from pyspark.ml.clustering import KMeans\n",
    "\n",
    "kmeans = KMeans(featuresCol='scaled_features', k=2)\n",
    "model = kmeans.fit(output)\n",
    "cluster = model.transform(output)"
   ]
  },
  {
   "cell_type": "code",
   "execution_count": 16,
   "id": "1da11e70",
   "metadata": {},
   "outputs": [],
   "source": [
    "#add prediction to the data frame \n",
    "from pyspark.sql.functions import col\n",
    "\n",
    "cluster = cluster.select(col(\"CUST_ID\"), col(\"prediction\").alias(\"cluster\"))\n",
    "\n",
    "# Join the predicted cluster column to the original DataFrame using the ID column as the join key\n",
    "credit_card_clustered = output.join(cluster, \"CUST_ID\")\n"
   ]
  },
  {
   "cell_type": "code",
   "execution_count": 18,
   "id": "b599beba",
   "metadata": {},
   "outputs": [],
   "source": [
    "dt_data = credit_card_clustered.select('scaled_features','cluster')"
   ]
  },
  {
   "cell_type": "code",
   "execution_count": 19,
   "id": "671f048c",
   "metadata": {},
   "outputs": [],
   "source": [
    "#splitting the data \n",
    "train_data,test_data = dt_data.randomSplit([0.7,0.3])"
   ]
  },
  {
   "cell_type": "markdown",
   "id": "b3cd0d1a",
   "metadata": {},
   "source": [
    "#### 3.2 Build decision tree and random forest models"
   ]
  },
  {
   "cell_type": "code",
   "execution_count": 20,
   "id": "021a0d9b",
   "metadata": {},
   "outputs": [],
   "source": [
    "from pyspark.ml.classification import DecisionTreeClassifier,RandomForestClassifier"
   ]
  },
  {
   "cell_type": "code",
   "execution_count": 21,
   "id": "c1075480",
   "metadata": {},
   "outputs": [],
   "source": [
    "dtc = DecisionTreeClassifier(labelCol='cluster',featuresCol='scaled_features')\n",
    "rfc = RandomForestClassifier(labelCol='cluster',featuresCol='scaled_features')"
   ]
  },
  {
   "cell_type": "code",
   "execution_count": 22,
   "id": "3f4dea64",
   "metadata": {},
   "outputs": [],
   "source": [
    "dtc_model = dtc.fit(train_data)\n",
    "rfc_model = rfc.fit(train_data)"
   ]
  },
  {
   "cell_type": "code",
   "execution_count": 23,
   "id": "b4877661",
   "metadata": {},
   "outputs": [],
   "source": [
    "dtc_preds = dtc_model.transform(test_data)\n",
    "rfc_preds = rfc_model.transform(test_data)"
   ]
  },
  {
   "cell_type": "code",
   "execution_count": 24,
   "id": "e39651b4",
   "metadata": {},
   "outputs": [],
   "source": [
    "from pyspark.ml.evaluation import BinaryClassificationEvaluator"
   ]
  },
  {
   "cell_type": "code",
   "execution_count": 25,
   "id": "9281a648",
   "metadata": {},
   "outputs": [],
   "source": [
    "# default metricName: areaUnderROC, other metricName: areaUnderPR\n",
    "my_binary_eval = BinaryClassificationEvaluator(labelCol='cluster')"
   ]
  },
  {
   "cell_type": "code",
   "execution_count": 26,
   "id": "bc90d18f",
   "metadata": {},
   "outputs": [
    {
     "name": "stdout",
     "output_type": "stream",
     "text": [
      "DTC area under ROC: 0.820421\n",
      "RFC area under ROC: 0.994465\n"
     ]
    }
   ],
   "source": [
    "print('DTC area under ROC: %f' % my_binary_eval.evaluate(dtc_preds))\n",
    "print('RFC area under ROC: %f' % my_binary_eval.evaluate(rfc_preds))"
   ]
  },
  {
   "cell_type": "code",
   "execution_count": 27,
   "id": "d5160bc9",
   "metadata": {},
   "outputs": [],
   "source": [
    "# show accuracy\n",
    "from pyspark.ml.evaluation import MulticlassClassificationEvaluator"
   ]
  },
  {
   "cell_type": "code",
   "execution_count": 28,
   "id": "2afd0223",
   "metadata": {},
   "outputs": [],
   "source": [
    "acc_eval = MulticlassClassificationEvaluator(labelCol='cluster',\n",
    "                                            metricName='accuracy')"
   ]
  },
  {
   "cell_type": "code",
   "execution_count": 29,
   "id": "da1640a3",
   "metadata": {},
   "outputs": [
    {
     "name": "stdout",
     "output_type": "stream",
     "text": [
      "dtc accuracy: 0.955865 \n",
      "rfc accuracy: 0.967867 \n"
     ]
    }
   ],
   "source": [
    "print(\"dtc accuracy: %f \" % acc_eval.evaluate(dtc_preds))\n",
    "print(\"rfc accuracy: %f \" % acc_eval.evaluate(rfc_preds))"
   ]
  },
  {
   "cell_type": "markdown",
   "id": "188a93d0",
   "metadata": {},
   "source": [
    "###### We could see that ROC and the Accuracy of Random Forest Tree is higher than  Decision tree. So we will be relying the result of random forest to select the significant features."
   ]
  },
  {
   "cell_type": "code",
   "execution_count": 30,
   "id": "4f5c908e",
   "metadata": {},
   "outputs": [
    {
     "data": {
      "text/plain": [
       "RandomForestClassificationModel: uid=RandomForestClassifier_70dabb5bdc0d, numTrees=20, numClasses=2, numFeatures=17"
      ]
     },
     "metadata": {},
     "output_type": "display_data"
    }
   ],
   "source": [
    "display(rfc_model)"
   ]
  },
  {
   "cell_type": "code",
   "execution_count": 31,
   "id": "2ee71e02",
   "metadata": {},
   "outputs": [
    {
     "data": {
      "text/plain": [
       "SparseVector(17, {0: 0.1723, 1: 0.0008, 2: 0.0055, 3: 0.0009, 4: 0.0021, 5: 0.2498, 6: 0.0031, 7: 0.0008, 8: 0.0023, 9: 0.2579, 10: 0.1942, 11: 0.0087, 12: 0.0461, 13: 0.0073, 14: 0.0456, 15: 0.0027, 16: 0.0001})"
      ]
     },
     "execution_count": 31,
     "metadata": {},
     "output_type": "execute_result"
    }
   ],
   "source": [
    "rfc_model.featureImportances"
   ]
  },
  {
   "cell_type": "markdown",
   "id": "291603e3",
   "metadata": {},
   "source": [
    "###### To determine which features are most significant, I look at the importance scores of the features in Random Forest model. These scores represent the relative importance of each feature in making accurate predictions. I will be selecting top 10 scores and their variables as my features for my K Means model"
   ]
  },
  {
   "cell_type": "markdown",
   "id": "58195406",
   "metadata": {},
   "source": [
    "### Step 4: Used columns based on the random forest importance score as features for K - Means model"
   ]
  },
  {
   "cell_type": "code",
   "execution_count": 32,
   "id": "8caa22a2",
   "metadata": {},
   "outputs": [],
   "source": [
    "#columns used as features based on Random Forest importance score\n",
    "col= ['BALANCE','PURCHASES', 'CASH_ADVANCE','PURCHASES_FREQUENCY', 'CASH_ADVANCE_FREQUENCY',\n",
    " 'CASH_ADVANCE_TRX', 'PURCHASES_TRX', 'CREDIT_LIMIT', 'PAYMENTS', 'MINIMUM_PAYMENTS']\n",
    "\n",
    "#create features column\n",
    "assembler = VectorAssembler(inputCols=col, outputCol='features')\n",
    "\n",
    "# Define the StandardScaler transformer\n",
    "scaler = StandardScaler(inputCol='features', outputCol='scaled_features',\n",
    "                        withMean=True, withStd=True)"
   ]
  },
  {
   "cell_type": "code",
   "execution_count": 33,
   "id": "3e73ac66",
   "metadata": {},
   "outputs": [],
   "source": [
    "#use pipeline to process data\n",
    "pipeline = Pipeline(stages=[assembler, scaler])\n",
    "output = pipeline.fit(new_ccdata).transform(new_ccdata)"
   ]
  },
  {
   "cell_type": "markdown",
   "id": "f749cbb0",
   "metadata": {},
   "source": [
    "### Step 5: Train a k-means model"
   ]
  },
  {
   "cell_type": "code",
   "execution_count": 35,
   "id": "7116e16b",
   "metadata": {},
   "outputs": [],
   "source": [
    "from pyspark.ml.clustering import KMeans\n",
    "\n",
    "kmeans = KMeans(featuresCol='scaled_features', k=2)\n",
    "model = kmeans.fit(output)"
   ]
  },
  {
   "cell_type": "code",
   "execution_count": 36,
   "id": "b95f564c",
   "metadata": {},
   "outputs": [
    {
     "name": "stdout",
     "output_type": "stream",
     "text": [
      "+----------+-----+\n",
      "|prediction|count|\n",
      "+----------+-----+\n",
      "|         1| 1551|\n",
      "|         0| 7085|\n",
      "+----------+-----+\n",
      "\n"
     ]
    }
   ],
   "source": [
    "#shows the total number of customer in each cluster\n",
    "model.transform(output).groupBy('prediction').count().show()"
   ]
  },
  {
   "cell_type": "markdown",
   "id": "a41959cd",
   "metadata": {},
   "source": [
    "### Step 6: Evaluate clustering by computing SSE, silhouette, and centroids"
   ]
  },
  {
   "cell_type": "code",
   "execution_count": 37,
   "id": "587591b2",
   "metadata": {},
   "outputs": [
    {
     "name": "stdout",
     "output_type": "stream",
     "text": [
      "Within-Cluster Sum of Squares:68100.87719212462\n"
     ]
    }
   ],
   "source": [
    "from pyspark.ml.evaluation import ClusteringEvaluator\n",
    "\n",
    "#calculating wsse score\n",
    "wssse = model.summary.trainingCost\n",
    "print('Within-Cluster Sum of Squares:'+ str(wssse))"
   ]
  },
  {
   "cell_type": "code",
   "execution_count": 38,
   "id": "638a2e32",
   "metadata": {},
   "outputs": [
    {
     "name": "stdout",
     "output_type": "stream",
     "text": [
      "Silhouette Score:0.6038256831453686\n"
     ]
    }
   ],
   "source": [
    "#calculating Silhouette Score\n",
    "predict = model.transform(output)\n",
    "evaluator = ClusteringEvaluator()\n",
    "silhouette = evaluator.evaluate(predict)\n",
    "print('Silhouette Score:'+ str(silhouette))"
   ]
  },
  {
   "cell_type": "code",
   "execution_count": 39,
   "id": "3e67707b",
   "metadata": {},
   "outputs": [
    {
     "name": "stdout",
     "output_type": "stream",
     "text": [
      "Cluster centers: \n",
      "[-0.30905552 -0.04949845 -0.30087057  0.06994289 -0.31234929 -0.28422833\n",
      " -0.02098307 -0.19973955 -0.18079676 -0.13357921]\n",
      "[ 1.41177201  0.22610995  1.37438299 -0.31950056  1.42681798  1.29836087\n",
      "  0.0958511   0.9124144   0.82588332  0.61019257]\n"
     ]
    }
   ],
   "source": [
    "#show the center of the cluster\n",
    "centers = model.clusterCenters()\n",
    "print(\"Cluster centers: \")\n",
    "for center in centers:\n",
    "    print(center)"
   ]
  },
  {
   "cell_type": "markdown",
   "id": "830da9fd",
   "metadata": {},
   "source": [
    "### Step 7: Compute wssse and silhouette scores for different k values"
   ]
  },
  {
   "cell_type": "code",
   "execution_count": 40,
   "id": "5ac1ed2a",
   "metadata": {},
   "outputs": [],
   "source": [
    "range_k = [2,3,4,5,6,7,8,9,10]"
   ]
  },
  {
   "cell_type": "code",
   "execution_count": 41,
   "id": "08173586",
   "metadata": {},
   "outputs": [],
   "source": [
    "#evaluate wssse score and silhouette score for k 2-10\n",
    "wssse_scores = []\n",
    "silhouette_scores = []\n",
    "for k in range_k:\n",
    "    kmeans = KMeans(featuresCol='scaled_features',k=k)\n",
    "    model = kmeans.fit(output) \n",
    "    predict = model.transform(output)\n",
    "    wssse = model.summary.trainingCost\n",
    "    wssse_scores.append(wssse)\n",
    "    silhouette = evaluator.evaluate(predict)\n",
    "    silhouette_scores.append(silhouette)"
   ]
  },
  {
   "cell_type": "code",
   "execution_count": 42,
   "id": "ec0ae940",
   "metadata": {},
   "outputs": [
    {
     "name": "stdout",
     "output_type": "stream",
     "text": [
      "within-set sum of squared errors: \n",
      "2 68100.87719212462\n",
      "3 57411.2461438865\n",
      "4 50369.245419598155\n",
      "5 46933.528916663076\n",
      "6 41929.49830491787\n",
      "7 38317.576606975876\n",
      "8 38669.83129557763\n",
      "9 33477.54562689275\n",
      "10 33629.236575322015\n"
     ]
    }
   ],
   "source": [
    "#print wssse\n",
    "print(\"within-set sum of squared errors: \")\n",
    "i=0\n",
    "while i<9:\n",
    "    print(range_k[i], wssse_scores[i])\n",
    "    i=i+1"
   ]
  },
  {
   "cell_type": "code",
   "execution_count": 43,
   "id": "e0658a65",
   "metadata": {},
   "outputs": [
    {
     "name": "stdout",
     "output_type": "stream",
     "text": [
      "silhouette coefficients: \n",
      "2 0.6038256831453686\n",
      "3 0.5174452036429469\n",
      "4 0.03472576817512927\n",
      "5 0.09756521027301389\n",
      "6 0.01836672533230017\n",
      "7 0.006134707151443678\n",
      "8 0.03540825991883549\n",
      "9 0.0265941014949841\n",
      "10 0.03096580702493428\n"
     ]
    }
   ],
   "source": [
    "#print the silhouette score\n",
    "print(\"silhouette coefficients: \")\n",
    "i=0\n",
    "while i<9:\n",
    "    print(range_k[i], silhouette_scores[i])\n",
    "    i=i+1"
   ]
  },
  {
   "cell_type": "code",
   "execution_count": 44,
   "id": "0a162807",
   "metadata": {},
   "outputs": [
    {
     "data": {
      "image/png": "[encoded data removed]",
      "text/plain": [
       "<Figure size 432x288 with 1 Axes>"
      ]
     },
     "metadata": {
      "needs_background": "light"
     },
     "output_type": "display_data"
    }
   ],
   "source": [
    "# Plot the elbow curve using Python matplotlib library\n",
    "import matplotlib.pyplot as plt\n",
    "import numpy as np\n",
    "plt.plot(range_k,wssse_scores)\n",
    "plt.ylabel('Within-Set Sum of Squared Error')\n",
    "plt.xlabel('Number of Clusters - k')\n",
    "plt.title('Elbow Curve')\n",
    "plt.show()"
   ]
  },
  {
   "cell_type": "code",
   "execution_count": 45,
   "id": "d832254b",
   "metadata": {},
   "outputs": [
    {
     "data": {
      "image/png": "[encoded data removed]",
      "text/plain": [
       "<Figure size 432x288 with 1 Axes>"
      ]
     },
     "metadata": {
      "needs_background": "light"
     },
     "output_type": "display_data"
    }
   ],
   "source": [
    "#plot the silhouette curve using Python matplotlib library\n",
    "plt.plot(range_k,silhouette_scores)\n",
    "plt.ylabel('Average Silhouette Score')\n",
    "plt.xlabel('Number of Clusters - k')\n",
    "plt.title('Silhouette Curve')\n",
    "plt.show()"
   ]
  },
  {
   "cell_type": "markdown",
   "id": "be370010",
   "metadata": {},
   "source": [
    "### Conclusion"
   ]
  },
  {
   "cell_type": "markdown",
   "id": "81b2e9e8",
   "metadata": {},
   "source": [
    "###### Based on these two curve, my k value would be 3. As you can see that in the elbow curve the value of the wssse decreases rapidly from 2 to 3 and after 3 it levels off. Also when we look at the silhouette curve, the average sihouette score is highest at k=2 followed by k =3, so I will be using 3 as the value of k for this problem"
   ]
  },
  {
   "cell_type": "code",
   "execution_count": 46,
   "id": "f232f133",
   "metadata": {},
   "outputs": [
    {
     "name": "stdout",
     "output_type": "stream",
     "text": [
      "Within-Cluster Sum of Squares:57411.2461438865\n",
      "Silhouette Score:0.5174452036429469\n"
     ]
    }
   ],
   "source": [
    "#using k = 3\n",
    "kmeans = KMeans(featuresCol='scaled_features', k=3)\n",
    "model = kmeans.fit(output)\n",
    "\n",
    "#calculating wsse score\n",
    "wssse = model.summary.trainingCost\n",
    "print('Within-Cluster Sum of Squares:'+ str(wssse))\n",
    "\n",
    "#calculating Silhouette Score\n",
    "predict = model.transform(output)\n",
    "evaluator = ClusteringEvaluator()\n",
    "silhouette = evaluator.evaluate(predict)\n",
    "print('Silhouette Score:'+ str(silhouette))"
   ]
  },
  {
   "cell_type": "code",
   "execution_count": 47,
   "id": "45cf49bc",
   "metadata": {},
   "outputs": [
    {
     "name": "stdout",
     "output_type": "stream",
     "text": [
      "Cluster centers: \n",
      "[-0.341606   -0.16913917 -0.30780084  0.01403815 -0.33134886 -0.29802602\n",
      " -0.17201428 -0.27510797 -0.25389584 -0.13131447]\n",
      "[ 1.18552728 -0.25740563  1.45265784 -0.57018396  1.62188104  1.42694763\n",
      " -0.31492085  0.6409006   0.50670564  0.37590999]\n",
      "[ 0.69904585  2.23104222 -0.22832995  1.1353281  -0.37546879 -0.26666598\n",
      "  2.38758915  1.26356436  1.35538667  0.44687491]\n"
     ]
    }
   ],
   "source": [
    "#show the center of the cluster\n",
    "centers = model.clusterCenters()\n",
    "print(\"Cluster centers: \")\n",
    "for center in centers:\n",
    "    print(center)"
   ]
  },
  {
   "cell_type": "code",
   "execution_count": 48,
   "id": "de4327ac",
   "metadata": {},
   "outputs": [
    {
     "name": "stdout",
     "output_type": "stream",
     "text": [
      "+----------+-----+\n",
      "|prediction|count|\n",
      "+----------+-----+\n",
      "|         1| 1480|\n",
      "|         2|  663|\n",
      "|         0| 6493|\n",
      "+----------+-----+\n",
      "\n"
     ]
    }
   ],
   "source": [
    "#shows the total number of customer in each cluster\n",
    "model.transform(output).groupBy('prediction').count().show()"
   ]
  },
  {
   "cell_type": "markdown",
   "id": "27ea71a9",
   "metadata": {},
   "source": [
    "### New strategy improvement"
   ]
  },
  {
   "cell_type": "markdown",
   "id": "0cf3ca46",
   "metadata": {},
   "source": [
    "###### Although we set k as 3 to create clusters, I was dissatisfied with the outcome. Specifically, I was not pleased with the fact that 2 of the clusters had a significant number of samples, i.e., over 2000, while the other one had less than 1000 samples. I believe that if we use the mean value of Minimum_payments\" and \"credit_limit,\" to replace all the null values, we will have more samples and build a more precise model. "
   ]
  },
  {
   "cell_type": "code",
   "execution_count": 49,
   "id": "af3f5dc5",
   "metadata": {},
   "outputs": [],
   "source": [
    "#replacing the missing values in the Credit_limit column with mean value\n",
    "from pyspark.sql.functions import mean\n",
    "\n",
    "mean_value = credit_card.select(mean('CREDIT_LIMIT')).collect()[0][0]\n",
    "credit_card = credit_card.fillna({'CREDIT_LIMIT': mean_value})"
   ]
  },
  {
   "cell_type": "code",
   "execution_count": 50,
   "id": "fbef9a01",
   "metadata": {},
   "outputs": [],
   "source": [
    "#replacing the missing values in the minimum_payments column with mean value\n",
    "mean_value = credit_card.select(mean('MINIMUM_PAYMENTS')).collect()[0][0]\n",
    "credit_card = credit_card.fillna({'MINIMUM_PAYMENTS': mean_value})"
   ]
  },
  {
   "cell_type": "code",
   "execution_count": 51,
   "id": "96c72507",
   "metadata": {},
   "outputs": [],
   "source": [
    "new_data = credit_card"
   ]
  },
  {
   "cell_type": "code",
   "execution_count": 52,
   "id": "2dd753ad",
   "metadata": {},
   "outputs": [],
   "source": [
    "#columns used as features excluding the columns with missing values\n",
    "col= ['BALANCE','PURCHASES', 'CASH_ADVANCE','PURCHASES_FREQUENCY', 'CASH_ADVANCE_FREQUENCY',\n",
    " 'CASH_ADVANCE_TRX', 'PURCHASES_TRX', 'CREDIT_LIMIT', 'PAYMENTS', 'MINIMUM_PAYMENTS']\n",
    "\n",
    "assembler = VectorAssembler(inputCols=col, outputCol='features')\n",
    "scaler = StandardScaler(inputCol='features', outputCol='scaled_features',\n",
    "                        withMean=True, withStd=True)"
   ]
  },
  {
   "cell_type": "code",
   "execution_count": 53,
   "id": "c43c27b2",
   "metadata": {},
   "outputs": [],
   "source": [
    "#use pipeline to process data\n",
    "pipeline = Pipeline(stages=[assembler, scaler])\n",
    "output = pipeline.fit(new_data).transform(new_data)"
   ]
  },
  {
   "cell_type": "code",
   "execution_count": 54,
   "id": "da92269e",
   "metadata": {},
   "outputs": [],
   "source": [
    "range_k = [2,3,4,5,6,7,8,9,10]"
   ]
  },
  {
   "cell_type": "code",
   "execution_count": 55,
   "id": "ce1942c2",
   "metadata": {},
   "outputs": [],
   "source": [
    "#evaluate wssse score and silhouette score for k 2-10\n",
    "wssse_scores = []\n",
    "silhouette_scores = []\n",
    "for k in range_k:\n",
    "    kmeans = KMeans(featuresCol='scaled_features',k=k)\n",
    "    model = kmeans.fit(output) \n",
    "    predict = model.transform(output)\n",
    "    wssse = model.summary.trainingCost\n",
    "    wssse_scores.append(wssse)\n",
    "    silhouette = evaluator.evaluate(predict)\n",
    "    silhouette_scores.append(silhouette)"
   ]
  },
  {
   "cell_type": "code",
   "execution_count": 56,
   "id": "f12dc83d",
   "metadata": {},
   "outputs": [
    {
     "name": "stdout",
     "output_type": "stream",
     "text": [
      "within-set sum of squared errors: \n",
      "2 70591.86600964768\n",
      "3 59535.158906499506\n",
      "4 52235.71113948068\n",
      "5 47504.00601839567\n",
      "6 43544.61713076185\n",
      "7 39875.41513671522\n",
      "8 38426.74119663404\n",
      "9 35233.569765697976\n",
      "10 36834.4650214048\n"
     ]
    }
   ],
   "source": [
    "#print wssse\n",
    "print(\"within-set sum of squared errors: \")\n",
    "i=0\n",
    "while i<9:\n",
    "    print(range_k[i], wssse_scores[i])\n",
    "    i=i+1"
   ]
  },
  {
   "cell_type": "code",
   "execution_count": 57,
   "id": "be4541d5",
   "metadata": {},
   "outputs": [
    {
     "name": "stdout",
     "output_type": "stream",
     "text": [
      "silhouette coefficients: \n",
      "2 0.6122426947064683\n",
      "3 0.5226805888078345\n",
      "4 0.03630323823590832\n",
      "5 0.046501811111464716\n",
      "6 0.03527500154538027\n",
      "7 0.014167677480547076\n",
      "8 0.0031979113456988674\n",
      "9 -0.0008834579535662297\n",
      "10 -0.0003466284440605645\n"
     ]
    }
   ],
   "source": [
    "#print the silhouette score\n",
    "print(\"silhouette coefficients: \")\n",
    "i=0\n",
    "while i<9:\n",
    "    print(range_k[i], silhouette_scores[i])\n",
    "    i=i+1"
   ]
  },
  {
   "cell_type": "code",
   "execution_count": 58,
   "id": "811c5d96",
   "metadata": {},
   "outputs": [
    {
     "data": {
      "image/png": "[encoded data removed]",
      "text/plain": [
       "<Figure size 432x288 with 1 Axes>"
      ]
     },
     "metadata": {
      "needs_background": "light"
     },
     "output_type": "display_data"
    }
   ],
   "source": [
    "# Plot the elbow curve using Python matplotlib library\n",
    "import matplotlib.pyplot as plt\n",
    "import numpy as np\n",
    "plt.plot(range_k,wssse_scores)\n",
    "plt.ylabel('Within-Set Sum of Squared Error')\n",
    "plt.xlabel('Number of Clusters - k')\n",
    "plt.title('Elbow Curve')\n",
    "plt.show()"
   ]
  },
  {
   "cell_type": "code",
   "execution_count": 59,
   "id": "1fe88f8c",
   "metadata": {},
   "outputs": [
    {
     "data": {
      "image/png": "[encoded data removed]",
      "text/plain": [
       "<Figure size 432x288 with 1 Axes>"
      ]
     },
     "metadata": {
      "needs_background": "light"
     },
     "output_type": "display_data"
    }
   ],
   "source": [
    "#plot the silhouette curve using Python matplotlib library\n",
    "plt.plot(range_k,silhouette_scores)\n",
    "plt.ylabel('Average Silhouette Score')\n",
    "plt.xlabel('Number of Clusters - k')\n",
    "plt.title('Silhouette Curve')\n",
    "plt.show()"
   ]
  },
  {
   "cell_type": "markdown",
   "id": "5a5a8416",
   "metadata": {},
   "source": [
    "###### After analyzing the two curves, I have determined that the optimal value for k is 3. The elbow curve indicates a significant decrease in the value of wssse from k=2 to k=3, after which it starts to level off. Similarly, the silhouette curve indicates that the average silhouette score is highest at k=2 followed by K=3 . "
   ]
  },
  {
   "cell_type": "code",
   "execution_count": 60,
   "id": "d0990fbe",
   "metadata": {},
   "outputs": [
    {
     "name": "stdout",
     "output_type": "stream",
     "text": [
      "Within-Cluster Sum of Squares:59535.158906499506\n",
      "Silhouette Score:0.5226805888078345\n"
     ]
    }
   ],
   "source": [
    "#using k = 3\n",
    "kmeans = KMeans(featuresCol='scaled_features', k=3)\n",
    "model = kmeans.fit(output)\n",
    "\n",
    "#calculating wsse score\n",
    "wssse = model.summary.trainingCost\n",
    "print('Within-Cluster Sum of Squares:'+ str(wssse))\n",
    "\n",
    "#calculating Silhouette Score\n",
    "predict = model.transform(output)\n",
    "evaluator = ClusteringEvaluator()\n",
    "silhouette = evaluator.evaluate(predict)\n",
    "print('Silhouette Score:'+ str(silhouette))"
   ]
  },
  {
   "cell_type": "code",
   "execution_count": 61,
   "id": "fbb97c3d",
   "metadata": {},
   "outputs": [
    {
     "name": "stdout",
     "output_type": "stream",
     "text": [
      "Cluster centers: \n",
      "[-0.34115911 -0.1689853  -0.30526909  0.0103116  -0.32889691 -0.29515816\n",
      " -0.17144521 -0.27156483 -0.2507837  -0.12875576]\n",
      "[ 0.71656125  2.25622397 -0.22358861  1.14752513 -0.36595105 -0.26049723\n",
      "  2.41328264  1.26668289  1.37733342  0.44860956]\n",
      "[ 1.20644714 -0.24813097  1.46418723 -0.55653144  1.63314192  1.43540279\n",
      " -0.30699527  0.65061926  0.50849674  0.37606725]\n"
     ]
    }
   ],
   "source": [
    "#show the center of the cluster\n",
    "centers = model.clusterCenters()\n",
    "print(\"Cluster centers: \")\n",
    "for center in centers:\n",
    "    print(center)"
   ]
  },
  {
   "cell_type": "code",
   "execution_count": 62,
   "id": "917fe6a7",
   "metadata": {},
   "outputs": [
    {
     "name": "stdout",
     "output_type": "stream",
     "text": [
      "+----------+-----+\n",
      "|prediction|count|\n",
      "+----------+-----+\n",
      "|         1|  673|\n",
      "|         2| 1513|\n",
      "|         0| 6764|\n",
      "+----------+-----+\n",
      "\n"
     ]
    }
   ],
   "source": [
    "#shows the total number of customer in each cluster\n",
    "model.transform(output).groupBy('prediction').count().show()"
   ]
  },
  {
   "cell_type": "markdown",
   "id": "73047494",
   "metadata": {},
   "source": [
    "###### In this study, the KMeans clustering algorithm was evaluated using two different models, one with 3 clusters and removing all the missing values rows and the other with 3 clusters with replacing the missig values with mean values. The results indicated that the model with 3 clusters and replacing the missing vlaues with the mean values performed better than the model with 3 clusters with removing the missing values."
   ]
  }
 ],
 "metadata": {
  "kernelspec": {
   "display_name": "PySpark",
   "language": "python",
   "name": "pyspark"
  },
  "language_info": {
   "codemirror_mode": {
    "name": "ipython",
    "version": 3
   },
   "file_extension": ".py",
   "mimetype": "text/x-python",
   "name": "python",
   "nbconvert_exporter": "python",
   "pygments_lexer": "ipython3",
   "version": "3.9.7"
  }
 },
 "nbformat": 4,
 "nbformat_minor": 5
}
